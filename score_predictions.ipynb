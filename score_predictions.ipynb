{
 "cells": [
  {
   "cell_type": "code",
   "execution_count": 109,
   "metadata": {
    "collapsed": false
   },
   "outputs": [
    {
     "name": "stdout",
     "output_type": "stream",
     "text": [
      "0.6875  -  naive bayes\n",
      "0.78125  -  support vector machine\n",
      "0.65625  -  random forest\n"
     ]
    }
   ],
   "source": [
    "from sklearn.naive_bayes import MultinomialNB\n",
    "from sklearn.linear_model import SGDClassifier\n",
    "from sklearn.ensemble import RandomForestClassifier\n",
    "\n",
    "nb = MultinomialNB()\n",
    "svm = SGDClassifier(loss='hinge', penalty='l2', alpha=1e-3, n_iter=5, random_state=42)\n",
    "rf = RandomForestClassifier(max_depth=5, n_estimators=10, max_features=1)\n",
    "\n",
    "print score_predictions(nb), ' -  naive bayes'\n",
    "print score_predictions(svm), ' -  support vector machine'\n",
    "print score_predictions(rf), ' -  random forest'"
   ]
  },
  {
   "cell_type": "code",
   "execution_count": 107,
   "metadata": {
    "collapsed": false
   },
   "outputs": [],
   "source": [
    "from __future__ import division\n",
    "\n",
    "def score_predictions(learner):\n",
    "    import random\n",
    "    import sqlite3\n",
    "\n",
    "    sqlite_file = 'abc_code.db'\n",
    "    table_name = 'fake_scores'\n",
    "\n",
    "    conn = sqlite3.connect(sqlite_file)\n",
    "    c = conn.cursor()\n",
    "\n",
    "    column1 = 'question_id'\n",
    "    question_id = 'question-1'\n",
    "    column2 = 'score'\n",
    "    limit = 10\n",
    "\n",
    "    data = list()\n",
    "    target = list()\n",
    "\n",
    "    for points in (0, 1, 2, 3):\n",
    "        c.execute('SELECT answered, score FROM {tn} WHERE {cn1}=\"{val1}\" AND {cn2}=\"{val2}\" LIMIT {limit}'.\\\n",
    "                format(tn=table_name, cn1=column1, val1=question_id, cn2=column2, val2=points, limit=limit))\n",
    "        rows = c.fetchall()\n",
    "\n",
    "        data.extend([x[0] for x in rows])\n",
    "        target.extend([x[1] for x in rows])\n",
    "\n",
    "    conn.close()\n",
    "\n",
    "    import sys\n",
    "    sys.path.append('/Library/Python/2.7/site-packages')\n",
    "    from sklearn.feature_extraction.text import CountVectorizer\n",
    "    # CountVectorizer(analyzer='char_wb', ngram_range=(2, 2), min_df=1)\n",
    "    from sklearn.pipeline import Pipeline\n",
    "    from sklearn.feature_extraction.text import TfidfTransformer\n",
    "\n",
    "    text_clf = Pipeline([('vect', CountVectorizer(analyzer='char_wb', ngram_range=(2, 2), min_df=1)),\n",
    "                         ('tfidf', TfidfTransformer()),\n",
    "                         ('clf', learner),\n",
    "    ])\n",
    "\n",
    "    text_clf = text_clf.fit(data, target)\n",
    "\n",
    "    test_data = ['if then', \n",
    "                 'yes no', \n",
    "                 'instructions depend', \n",
    "                 'case depend', \n",
    "                 'not related', \n",
    "                 'Very often when you write code, you want to perform different actions for different decisions. You can use conditional statements in your code to do this',\n",
    "                 'Conditional statements are used to perform different actions based on different conditions.',\n",
    "                 'In computer science, conditional statements, conditional expressions and conditional constructs are features of a programming language, which perform different computations or actions depending on whether a programmer-specified boolean condition evaluates to true or false',\n",
    "                ]\n",
    "    test_target = [3, 3, 3, 3, 0, 3, 3, 3]\n",
    "    predicted = text_clf.predict(test_data)\n",
    "#     print 'predic: ', [x for x in predicted]\n",
    "#     print 'target: ', test_target\n",
    "\n",
    "    def score_prediction(predicted, target, target_names):\n",
    "        possible = len(target) * len(target_names)\n",
    "        score = possible\n",
    "        for p, t in zip(predicted, target):\n",
    "            diff = abs(t - p)\n",
    "            score -= diff\n",
    "        return score / possible\n",
    "\n",
    "    return score_prediction(predicted, test_target, [\"criteria-4\", \"criteria-3\", \"criteria-2\", \"criteria-1\"])"
   ]
  },
  {
   "cell_type": "code",
   "execution_count": null,
   "metadata": {
    "collapsed": true
   },
   "outputs": [],
   "source": []
  },
  {
   "cell_type": "code",
   "execution_count": null,
   "metadata": {
    "collapsed": true
   },
   "outputs": [],
   "source": []
  }
 ],
 "metadata": {
  "kernelspec": {
   "display_name": "Python 2",
   "language": "python",
   "name": "python2"
  },
  "language_info": {
   "codemirror_mode": {
    "name": "ipython",
    "version": 2
   },
   "file_extension": ".py",
   "mimetype": "text/x-python",
   "name": "python",
   "nbconvert_exporter": "python",
   "pygments_lexer": "ipython2",
   "version": "2.7.11"
  }
 },
 "nbformat": 4,
 "nbformat_minor": 0
}
