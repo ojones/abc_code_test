{
 "cells": [
  {
   "cell_type": "code",
   "execution_count": 267,
   "metadata": {
    "collapsed": false
   },
   "outputs": [
    {
     "name": "stdout",
     "output_type": "stream",
     "text": [
      "that provides A no An\n",
      "[3, 2, 2, 0, 3, 1, 2, 2, 0, 1]\n"
     ]
    }
   ],
   "source": [
    "import random\n",
    "import sqlite3\n",
    "\n",
    "sqlite_file = 'abc_code.db'\n",
    "table_name = 'fake_scores'\n",
    "\n",
    "conn = sqlite3.connect(sqlite_file)\n",
    "c = conn.cursor()\n",
    "\n",
    "column1 = 'question_id'\n",
    "question_id = 'question-1'\n",
    "column2 = 'score'\n",
    "limit = 852\n",
    "\n",
    "data = list()\n",
    "target = list()\n",
    "\n",
    "for points in (0, 1, 2, 3):\n",
    "    c.execute('SELECT answered, score FROM {tn} WHERE {cn1}=\"{val1}\" AND {cn2}=\"{val2}\" LIMIT {limit}'.\\\n",
    "            format(tn=table_name, cn1=column1, val1=question_id, cn2=column2, val2=points, limit=limit))\n",
    "    rows = c.fetchall()\n",
    "\n",
    "    data.extend([x[0] for x in rows])\n",
    "    target.extend([x[1] for x in rows])\n",
    "\n",
    "print(data[0])\n",
    "print(random.sample(target, 10))\n",
    "\n",
    "conn.close()"
   ]
  },
  {
   "cell_type": "code",
   "execution_count": 251,
   "metadata": {
    "collapsed": false
   },
   "outputs": [],
   "source": [
    "import sys\n",
    "sys.path.append('/Library/Python/2.7/site-packages')\n",
    "from sklearn.pipeline import Pipeline\n",
    "from sklearn.feature_extraction.text import TfidfTransformer\n",
    "from sklearn.naive_bayes import MultinomialNB\n",
    "# MultinomialNB()\n",
    "# 0.40\n",
    "from sklearn.linear_model import SGDClassifier\n",
    "# SGDClassifier(loss='hinge', penalty='l2', alpha=1e-3, n_iter=5, random_state=42)\n",
    "#0.20 0.40\n",
    "from sklearn.ensemble import RandomForestClassifier\n",
    "# RandomForestClassifier(max_depth=5, n_estimators=10, max_features=1)\n",
    "#0.599999, 0.20, 0.40\n",
    "text_clf = Pipeline([('vect', CountVectorizer(analyzer='char_wb', ngram_range=(2, 2), min_df=1)),\n",
    "                     ('tfidf', TfidfTransformer()),\n",
    "                     ('clf', SGDClassifier(loss='hinge', penalty='l2', alpha=1e-3, n_iter=5, random_state=42)),\n",
    "])"
   ]
  },
  {
   "cell_type": "code",
   "execution_count": 252,
   "metadata": {
    "collapsed": false
   },
   "outputs": [],
   "source": [
    "text_clf = text_clf.fit(data, target)"
   ]
  },
  {
   "cell_type": "code",
   "execution_count": 255,
   "metadata": {
    "collapsed": false
   },
   "outputs": [
    {
     "name": "stdout",
     "output_type": "stream",
     "text": [
      "[2 3 2 2 0]\n"
     ]
    }
   ],
   "source": [
    "test_data = ['if then', 'yes no', 'instructions depend', 'case depend', 'not related']\n",
    "test_target = [3, 3, 3, 3, 0]\n",
    "predicted = text_clf.predict(test_data)\n",
    "print(predicted)"
   ]
  },
  {
   "cell_type": "code",
   "execution_count": 256,
   "metadata": {
    "collapsed": false
   },
   "outputs": [
    {
     "data": {
      "text/plain": [
       "0.40000000000000002"
      ]
     },
     "execution_count": 256,
     "metadata": {},
     "output_type": "execute_result"
    }
   ],
   "source": [
    "import numpy as np\n",
    "np.mean(predicted == test_target)  "
   ]
  },
  {
   "cell_type": "code",
   "execution_count": 265,
   "metadata": {
    "collapsed": true
   },
   "outputs": [],
   "source": [
    "from __future__ import division\n",
    "def score_prediction(predicted, target, target_names):\n",
    "    possible = len(target) * len(target_names)\n",
    "    score = possible\n",
    "    for p, t in zip(predicted, target):\n",
    "        diff = abs(t - p)\n",
    "        score -= diff\n",
    "    return score / possible"
   ]
  },
  {
   "cell_type": "code",
   "execution_count": 266,
   "metadata": {
    "collapsed": false
   },
   "outputs": [
    {
     "data": {
      "text/plain": [
       "0.84999999999999998"
      ]
     },
     "execution_count": 266,
     "metadata": {},
     "output_type": "execute_result"
    }
   ],
   "source": [
    "score_prediction(predicted, test_target, [\"criteria-4\", \"criteria-3\", \"criteria-2\", \"criteria-1\"])"
   ]
  },
  {
   "cell_type": "code",
   "execution_count": null,
   "metadata": {
    "collapsed": true
   },
   "outputs": [],
   "source": []
  },
  {
   "cell_type": "code",
   "execution_count": null,
   "metadata": {
    "collapsed": true
   },
   "outputs": [],
   "source": []
  },
  {
   "cell_type": "code",
   "execution_count": 241,
   "metadata": {
    "collapsed": false
   },
   "outputs": [
    {
     "name": "stdout",
     "output_type": "stream",
     "text": [
      "             precision    recall  f1-score   support\n",
      "\n",
      " criteria-4       1.00      1.00      1.00         1\n",
      " criteria-3       0.00      0.00      0.00         0\n",
      " criteria-2       1.00      0.25      0.40         4\n",
      "\n",
      "avg / total       1.00      0.40      0.52         5\n",
      "\n"
     ]
    }
   ],
   "source": [
    "from sklearn import metrics\n",
    "print(metrics.classification_report(test_target, predicted,\n",
    "    target_names=[\"criteria-4\", \"criteria-3\", \"criteria-2\", \"criteria-1\"]))"
   ]
  },
  {
   "cell_type": "code",
   "execution_count": 242,
   "metadata": {
    "collapsed": false
   },
   "outputs": [
    {
     "data": {
      "text/plain": [
       "array([[1, 0, 0],\n",
       "       [0, 0, 0],\n",
       "       [0, 3, 1]])"
      ]
     },
     "execution_count": 242,
     "metadata": {},
     "output_type": "execute_result"
    }
   ],
   "source": [
    "metrics.confusion_matrix(test_target, predicted)"
   ]
  },
  {
   "cell_type": "code",
   "execution_count": null,
   "metadata": {
    "collapsed": true
   },
   "outputs": [],
   "source": []
  },
  {
   "cell_type": "code",
   "execution_count": null,
   "metadata": {
    "collapsed": true
   },
   "outputs": [],
   "source": []
  },
  {
   "cell_type": "code",
   "execution_count": null,
   "metadata": {
    "collapsed": true
   },
   "outputs": [],
   "source": []
  },
  {
   "cell_type": "code",
   "execution_count": null,
   "metadata": {
    "collapsed": true
   },
   "outputs": [],
   "source": []
  },
  {
   "cell_type": "code",
   "execution_count": null,
   "metadata": {
    "collapsed": true
   },
   "outputs": [],
   "source": []
  },
  {
   "cell_type": "code",
   "execution_count": null,
   "metadata": {
    "collapsed": true
   },
   "outputs": [],
   "source": []
  },
  {
   "cell_type": "code",
   "execution_count": null,
   "metadata": {
    "collapsed": true
   },
   "outputs": [],
   "source": []
  }
 ],
 "metadata": {
  "kernelspec": {
   "display_name": "Python 2",
   "language": "python",
   "name": "python2"
  },
  "language_info": {
   "codemirror_mode": {
    "name": "ipython",
    "version": 2
   },
   "file_extension": ".py",
   "mimetype": "text/x-python",
   "name": "python",
   "nbconvert_exporter": "python",
   "pygments_lexer": "ipython2",
   "version": "2.7.11"
  }
 },
 "nbformat": 4,
 "nbformat_minor": 0
}
